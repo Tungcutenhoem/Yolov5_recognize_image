{
  "nbformat": 4,
  "nbformat_minor": 0,
  "metadata": {
    "colab": {
      "provenance": []
    },
    "kernelspec": {
      "name": "python3",
      "display_name": "Python 3"
    },
    "language_info": {
      "name": "python"
    }
  },
  "cells": [
    {
      "cell_type": "markdown",
      "source": [
        "# 1. Read and Clear data"
      ],
      "metadata": {
        "id": "CNhZ4rPB0Pmk"
      }
    },
    {
      "cell_type": "code",
      "source": [
        "!pip install gradio pillow\n"
      ],
      "metadata": {
        "id": "jBRTHHSKz5B9"
      },
      "execution_count": null,
      "outputs": []
    },
    {
      "cell_type": "code",
      "source": [
        "import pandas as pd\n"
      ],
      "metadata": {
        "id": "6I_P6jMuLXYG"
      },
      "execution_count": 2,
      "outputs": []
    },
    {
      "cell_type": "code",
      "source": [
        "import pandas as pd\n",
        "\n",
        "canxi = pd.read_csv('/content/drive/MyDrive/data/canxi/canxi.csv')\n",
        "\n",
        "carbohydrate_bad = pd.read_csv('/content/drive/MyDrive/data/carbohydrate/carbohydrate_bad_health.csv')\n",
        "carbohydrate_good = pd.read_csv('/content/drive/MyDrive/data/carbohydrate/carbohydrate_good_health.csv')\n",
        "\n",
        "cholesterol_bad = pd.read_csv('/content/drive/MyDrive/data/cholesterol/cholesterol_bad_foods.csv')\n",
        "cholesterol_good = pd.read_csv('/content/drive/MyDrive/data/cholesterol/cholesterol_good_foods.csv')\n",
        "\n",
        "fat_aquatic = pd.read_csv('/content/drive/MyDrive/data/fat/fat_aquatic_animals.csv')\n",
        "fat_plant = pd.read_csv('/content/drive/MyDrive/data/fat/fat_plant.csv')\n",
        "fat_terrestrial = pd.read_csv('/content/drive/MyDrive/data/fat/fat_terrestrial_animals.csv')\n",
        "\n",
        "fe = pd.read_csv('/content/drive/MyDrive/data/fe/fe.csv')\n",
        "\n",
        "fiber = pd.read_csv('/content/drive/MyDrive/data/fiber/fiber.csv')\n",
        "\n",
        "magie = pd.read_csv('/content/drive/MyDrive/data/magie/magie.csv')\n",
        "\n",
        "potassium = pd.read_csv('/content/drive/MyDrive/data/potassium/potassium.csv')\n",
        "\n",
        "protein_product = pd.read_csv('/content/drive/MyDrive/data/protein/protein_animal_products.csv')\n",
        "protein_aquatic = pd.read_csv('/content/drive/MyDrive/data/protein/protein_aquatic_animals.csv')\n",
        "protein_plant = pd.read_csv('/content/drive/MyDrive/data/protein/protein_plant.csv')\n",
        "protein_terrestrial = pd.read_csv('/content/drive/MyDrive/data/protein/protein_terrestrial_animals.csv')\n",
        "\n",
        "sodium = pd.read_csv('/content/drive/MyDrive/data/sodium/sodium.csv')\n",
        "\n",
        "sugar_bad = pd.read_csv('/content/drive/MyDrive/data/sugar/sugar_bad_foods.csv')\n",
        "sugar_good = pd.read_csv('/content/drive/MyDrive/data/sugar/sugar_good_foods.csv')\n",
        "\n",
        "vitamin_A_animals = pd.read_csv('/content/drive/MyDrive/data/vitamin/vitamin_A_animals.csv')\n",
        "vitamin_A_plants = pd.read_csv('/content/drive/MyDrive/data/vitamin/vitamin_A_plants.csv')\n",
        "vitamin_C_fruits = pd.read_csv('/content/drive/MyDrive/data/vitamin/vitamin_C_fruits.csv')\n",
        "vitamin_C_vegetables = pd.read_csv('/content/drive/MyDrive/data/vitamin/vitamin_C_vegetables.csv')\n",
        "vitamin_D = pd.read_csv('/content/drive/MyDrive/data/vitamin/vitamin_D.csv')\n",
        "vitamin_E = pd.read_csv('/content/drive/MyDrive/data/vitamin/vitamin_E.csv')\n",
        "\n",
        "dishes = pd.read_csv('/content/drive/MyDrive/data/dishes/nutrition_data.csv')\n"
      ],
      "metadata": {
        "id": "9TD-RcS-L1At"
      },
      "execution_count": 3,
      "outputs": []
    },
    {
      "cell_type": "code",
      "source": [
        "canxi = canxi.loc[:, 'food_name' : 'nf_potassium']\n",
        "\n",
        "carbohydrate_bad = carbohydrate_bad.loc[:, 'food_name' : 'nf_potassium']\n",
        "carbohydrate_good = carbohydrate_good.loc[:, 'food_name' : 'nf_potassium']\n",
        "\n",
        "cholesterol_bad = cholesterol_good.loc[:, 'food_name' : 'nf_potassium']\n",
        "cholesterol_good = cholesterol_good.loc[:, 'food_name' : 'nf_potassium']\n",
        "\n",
        "fat_aquatic = fat_aquatic.loc[:, 'food_name' : 'nf_potassium']\n",
        "fat_plant = fat_plant.loc[:, 'food_name' : 'nf_potassium']\n",
        "fat_terrestrial = fat_terrestrial.loc[:, 'food_name' : 'nf_potassium']\n",
        "\n",
        "fe = fe.loc[:, 'food_name' : 'nf_potassium']\n",
        "\n",
        "fiber = fiber.loc[:, 'food_name' : 'nf_potassium']\n",
        "\n",
        "magie = magie.loc[:, 'food_name' : 'nf_potassium']\n",
        "\n",
        "potassium = potassium.loc[:, 'food_name' : 'nf_potassium']\n",
        "\n",
        "protein_product = protein_product.loc[:, 'food_name' : 'nf_potassium']\n",
        "protein_aquatic = protein_aquatic.loc[:, 'food_name' : 'nf_potassium']\n",
        "protein_plant = protein_plant.loc[:, 'food_name' : 'nf_potassium']\n",
        "protein_terrestrial = protein_terrestrial.loc[:, 'food_name' : 'nf_potassium']\n",
        "\n",
        "sodium = sodium.loc[:, 'food_name' : 'nf_potassium']\n",
        "\n",
        "sugar_bad = sugar_bad.loc[:, 'food_name' : 'nf_potassium']\n",
        "sugar_good = sugar_good.loc[:, 'food_name' : 'nf_potassium']\n",
        "\n",
        "vitamin_A_animals = vitamin_A_animals.loc[:, 'food_name' : 'nf_potassium']\n",
        "vitamin_A_plants = vitamin_A_plants.loc[:, 'food_name' : 'nf_potassium']\n",
        "vitamin_C_fruits = vitamin_C_fruits.loc[:, 'food_name' : 'nf_potassium']\n",
        "vitamin_C_vegetables = vitamin_C_vegetables.loc[:, 'food_name' : 'nf_potassium']\n",
        "vitamin_D = vitamin_D.loc[:, 'food_name' : 'nf_potassium']\n",
        "vitamin_E = vitamin_E.loc[:, 'food_name' : 'nf_potassium']\n",
        "\n",
        "dishes = dishes.loc[:, 'food_name' : 'nf_potassium']"
      ],
      "metadata": {
        "id": "gZRdGVBAMW-K"
      },
      "execution_count": 4,
      "outputs": []
    },
    {
      "cell_type": "code",
      "source": [
        "canxi = canxi.drop_duplicates(subset='food_name')\n",
        "carbohydrate_bad = carbohydrate_bad.drop_duplicates(subset='food_name')\n",
        "carbohydrate_good = carbohydrate_good.drop_duplicates(subset='food_name')\n",
        "\n",
        "cholesterol_bad = cholesterol_bad.drop_duplicates(subset='food_name')\n",
        "cholesterol_good = cholesterol_good.drop_duplicates(subset='food_name')\n",
        "\n",
        "fat_aquatic = fat_aquatic.drop_duplicates(subset='food_name')\n",
        "fat_plant = fat_plant.drop_duplicates(subset='food_name')\n",
        "fat_terrestrial = fat_terrestrial.drop_duplicates(subset='food_name')\n",
        "\n",
        "fe = fe.drop_duplicates(subset='food_name')\n",
        "\n",
        "fiber = fiber.drop_duplicates(subset='food_name')\n",
        "\n",
        "magie = magie.drop_duplicates(subset='food_name')\n",
        "\n",
        "potassium = potassium.drop_duplicates(subset='food_name')\n",
        "\n",
        "protein_product = protein_product.drop_duplicates(subset='food_name')\n",
        "protein_aquatic = protein_aquatic.drop_duplicates(subset='food_name')\n",
        "protein_plant = protein_plant.drop_duplicates(subset='food_name')\n",
        "protein_terrestrial = protein_terrestrial.drop_duplicates(subset='food_name')\n",
        "\n",
        "sodium = sodium.drop_duplicates(subset='food_name')\n",
        "\n",
        "sugar_bad = sugar_bad.drop_duplicates(subset='food_name')\n",
        "sugar_good = sugar_good.drop_duplicates(subset='food_name')\n",
        "\n",
        "vitamin_A_animals = vitamin_A_animals.drop_duplicates(subset='food_name')\n",
        "vitamin_A_plants = vitamin_A_plants.drop_duplicates(subset='food_name')\n",
        "vitamin_C_fruits = vitamin_C_fruits.drop_duplicates(subset='food_name')\n",
        "vitamin_C_vegetables = vitamin_C_vegetables.drop_duplicates(subset='food_name')\n",
        "vitamin_D = vitamin_D.drop_duplicates(subset='food_name')\n",
        "vitamin_E = vitamin_E.drop_duplicates(subset='food_name')\n",
        "\n",
        "dishes = dishes.drop_duplicates(subset='food_name')\n"
      ],
      "metadata": {
        "id": "LDQt9R4CSyIC"
      },
      "execution_count": 5,
      "outputs": []
    },
    {
      "cell_type": "code",
      "source": [
        "canxi = canxi.set_index('food_name')\n",
        "\n",
        "carbohydrate_bad = carbohydrate_bad.set_index('food_name')\n",
        "carbohydrate_good = carbohydrate_good.set_index('food_name')\n",
        "\n",
        "cholesterol_bad = cholesterol_bad.set_index('food_name')\n",
        "cholesterol_good = cholesterol_good.set_index('food_name')\n",
        "\n",
        "fat_aquatic = fat_aquatic.set_index('food_name')\n",
        "fat_plant = fat_plant.set_index('food_name')\n",
        "fat_terrestrial = fat_terrestrial.set_index('food_name')\n",
        "\n",
        "fe = fe.set_index('food_name')\n",
        "\n",
        "fiber = fiber.set_index('food_name')\n",
        "\n",
        "magie = magie.set_index('food_name')\n",
        "\n",
        "potassium = potassium.set_index('food_name')\n",
        "\n",
        "protein_product = protein_product.set_index('food_name')\n",
        "protein_aquatic = protein_aquatic.set_index('food_name')\n",
        "protein_plant = protein_plant.set_index('food_name')\n",
        "protein_terrestrial = protein_terrestrial.set_index('food_name')\n",
        "\n",
        "sodium = sodium.set_index('food_name')\n",
        "\n",
        "sugar_bad = sugar_bad.set_index('food_name')\n",
        "sugar_good = sugar_good.set_index('food_name')\n",
        "\n",
        "vitamin_A_animals = vitamin_A_animals.set_index('food_name')\n",
        "vitamin_A_plants = vitamin_A_plants.set_index('food_name')\n",
        "vitamin_C_fruits = vitamin_C_fruits.set_index('food_name')\n",
        "vitamin_C_vegetables = vitamin_C_vegetables.set_index('food_name')\n",
        "vitamin_D = vitamin_D.set_index('food_name')\n",
        "vitamin_E = vitamin_E.set_index('food_name')\n",
        "\n",
        "dishes = dishes.set_index('food_name')\n"
      ],
      "metadata": {
        "id": "xA5fn7uCRC22"
      },
      "execution_count": 6,
      "outputs": []
    },
    {
      "cell_type": "code",
      "source": [
        "dataframes_dict = {\n",
        "    \"canxi\": canxi,\n",
        "    \"carbohydrate_bad\": carbohydrate_bad,\n",
        "    \"carbohydrate_good\": carbohydrate_good,\n",
        "    \"cholesterol_bad\": cholesterol_bad,\n",
        "    \"cholesterol_good\": cholesterol_good,\n",
        "    \"fat_aquatic\": fat_aquatic,\n",
        "    \"fat_plant\": fat_plant,\n",
        "    \"fat_terrestrial\": fat_terrestrial,\n",
        "    \"fe\": fe,\n",
        "    \"fiber\": fiber,\n",
        "    \"magie\": magie,\n",
        "    \"potassium\": potassium,\n",
        "    \"protein_product\": protein_product,\n",
        "    \"protein_aquatic\": protein_aquatic,\n",
        "    \"protein_plant\": protein_plant,\n",
        "    \"protein_terrestrial\": protein_terrestrial,\n",
        "    \"sodium\": sodium,\n",
        "    \"sugar_bad\": sugar_bad,\n",
        "    \"sugar_good\": sugar_good,\n",
        "    \"vitamin_A_animals\": vitamin_A_animals,\n",
        "    \"vitamin_A_plants\": vitamin_A_plants,\n",
        "    \"vitamin_C_fruits\": vitamin_C_fruits,\n",
        "    \"vitamin_C_vegetables\": vitamin_C_vegetables,\n",
        "    \"vitamin_D\": vitamin_D,\n",
        "    \"vitamin_E\": vitamin_E,\n",
        "    \"dishes\": dishes\n",
        "}\n"
      ],
      "metadata": {
        "id": "eKQ1myVFMZXc"
      },
      "execution_count": 7,
      "outputs": []
    },
    {
      "cell_type": "code",
      "source": [
        "for df_name, df in dataframes_dict.items():\n",
        "    if 'brand_name' in df.columns:  # Check if the column exists\n",
        "        dataframes_dict[df_name] = df.drop(columns=['brand_name']) # Drop the 'brand_name' column if it exists"
      ],
      "metadata": {
        "id": "WEBSCRHJY25o"
      },
      "execution_count": 8,
      "outputs": []
    },
    {
      "cell_type": "code",
      "source": [
        "dataframes_dict['dishes']"
      ],
      "metadata": {
        "id": "g4zddQK5ZM_J"
      },
      "execution_count": null,
      "outputs": []
    },
    {
      "cell_type": "markdown",
      "source": [
        "# 2. Use model to recognize images"
      ],
      "metadata": {
        "id": "C7TYd04J8j8c"
      }
    },
    {
      "cell_type": "code",
      "source": [
        "import torch\n",
        "model = torch.hub.load('ultralytics/yolov5', 'custom', path=\"/content/best_yolov5.pt\",force_reload=True)"
      ],
      "metadata": {
        "id": "q3sQXgGlNmFA"
      },
      "execution_count": null,
      "outputs": []
    },
    {
      "cell_type": "code",
      "source": [
        "test = pd.read_csv(\"/content/drive/MyDrive/data/dishes/code.csv\")\n",
        "test = test.drop_duplicates(subset='food_name')\n",
        "test.set_index('food_name', inplace=True)\n",
        "test"
      ],
      "metadata": {
        "id": "ntWSXLAUCTPy"
      },
      "execution_count": null,
      "outputs": []
    },
    {
      "cell_type": "markdown",
      "source": [
        "# 3. Use gradio to build GUI in google colab"
      ],
      "metadata": {
        "id": "wb-RBwKx9AXk"
      }
    },
    {
      "cell_type": "code",
      "source": [
        "import gradio as gr\n",
        "from PIL import Image\n",
        "import os\n",
        "\n",
        "def upload_and_display(image):\n",
        "    if image:\n",
        "        img = Image.open(image.name)\n",
        "        img = img.resize((640, 640))\n",
        "        result = model(img, size = 640)\n",
        "\n",
        "        labels = result.names\n",
        "        predictions = result.xywh[0]\n",
        "        cls = predictions[0, -1].item()\n",
        "        label = labels[int(cls)]\n",
        "        img = img.resize((300,300))\n",
        "        return img,label, dataframes_dict['dishes'].loc[label].to_string(), test.loc[label]\n",
        "    return None, \"Chưa có ảnh nào được tải lên\", \"\", \"\"\n",
        "\n",
        "def check(string,label):\n",
        "  final = dataframes_dict[\"dishes\"].loc[label,\"nf_total_fat\"]\n",
        "  if string == \"fat\":\n",
        "    result = dataframes_dict['dishes']\n",
        "    for i in result.index:\n",
        "      if result.loc[i,\"nf_total_fat\"] < final:\n",
        "        return i\n",
        "  return 0\n",
        "\n",
        "with gr.Blocks() as demo:\n",
        "    gr.Markdown(\"# 🖼️ Tải ảnh và hiển thị thông tin\")\n",
        "\n",
        "    image_input = gr.File(label=\"Tải ảnh lên\")\n",
        "    upload_button = gr.Button(\"Nhấn để tải ảnh\")\n",
        "    run_button = gr.Button(\"Gợi ý món tốt hơn\")\n",
        "    dropdown_input = gr.Dropdown(['fat','cholesterol'], label = \"chon loai dinh duong\")\n",
        "\n",
        "\n",
        "    image_output = gr.Image(label=\"Ảnh đã tải lên\")\n",
        "    label_output = gr.Textbox(label=\"Thông tin\")\n",
        "    details_output = gr.Textbox(label=\"Chi tiết món ăn\")\n",
        "    nutrition_output = gr.Textbox(label=\"Đánh giá dinh dưỡng\")\n",
        "    result_output = gr.Textbox(label=\"Kết quả hàm khác\", interactive=False)\n",
        "\n",
        "\n",
        "    upload_button.click(fn=upload_and_display, inputs=image_input, outputs=[image_output, label_output, details_output, nutrition_output])\n",
        "    run_button.click(fn=check, inputs=[dropdown_input, label_output], outputs=result_output)\n",
        "\n",
        "demo.launch()\n"
      ],
      "metadata": {
        "id": "i1jnvrTABAus",
        "colab": {
          "base_uri": "https://localhost:8080/",
          "height": 646
        },
        "outputId": "ab37061c-aeda-4b33-a914-1cbd5314ef4b"
      },
      "execution_count": 13,
      "outputs": [
        {
          "output_type": "stream",
          "name": "stdout",
          "text": [
            "Running Gradio in a Colab notebook requires sharing enabled. Automatically setting `share=True` (you can turn this off by setting `share=False` in `launch()` explicitly).\n",
            "\n",
            "Colab notebook detected. To show errors in colab notebook, set debug=True in launch()\n",
            "* Running on public URL: https://055b8fe879097dbb59.gradio.live\n",
            "\n",
            "This share link expires in 72 hours. For free permanent hosting and GPU upgrades, run `gradio deploy` from the terminal in the working directory to deploy to Hugging Face Spaces (https://huggingface.co/spaces)\n"
          ]
        },
        {
          "output_type": "display_data",
          "data": {
            "text/plain": [
              "<IPython.core.display.HTML object>"
            ],
            "text/html": [
              "<div><iframe src=\"https://055b8fe879097dbb59.gradio.live\" width=\"100%\" height=\"500\" allow=\"autoplay; camera; microphone; clipboard-read; clipboard-write;\" frameborder=\"0\" allowfullscreen></iframe></div>"
            ]
          },
          "metadata": {}
        },
        {
          "output_type": "execute_result",
          "data": {
            "text/plain": []
          },
          "metadata": {},
          "execution_count": 13
        }
      ]
    }
  ]
}